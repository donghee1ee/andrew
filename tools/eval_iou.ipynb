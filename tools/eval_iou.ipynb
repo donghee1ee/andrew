{
 "cells": [
  {
   "cell_type": "code",
   "execution_count": 2,
   "metadata": {},
   "outputs": [],
   "source": [
    "def bbox_center_to_corners(bbox):\n",
    "    \"\"\"\n",
    "    Convert a bounding box from [center_x, center_y, width, height] format \n",
    "    to [x_min, y_min, x_max, y_max] format.\n",
    "    \"\"\"\n",
    "    center_x, center_y, width, height = bbox\n",
    "    x_min = center_x - width / 2\n",
    "    y_min = center_y - height / 2\n",
    "    x_max = center_x + width / 2\n",
    "    y_max = center_y + height / 2\n",
    "    return [x_min, y_min, x_max, y_max]"
   ]
  },
  {
   "cell_type": "code",
   "execution_count": 4,
   "metadata": {},
   "outputs": [],
   "source": [
    "def calculate_iou(bbox1, bbox2):\n",
    "    \"\"\"\n",
    "    Calculate the Intersection over Union (IoU) of two bounding boxes.\n",
    "    The bounding boxes are expected in [center_x, center_y, width, height] format.\n",
    "    \"\"\"\n",
    "    bbox1 = bbox_center_to_corners(bbox1)\n",
    "    bbox2 = bbox_center_to_corners(bbox2)\n",
    "\n",
    "    # Determine the coordinates of the intersection rectangle\n",
    "    x_left = max(bbox1[0], bbox2[0])\n",
    "    y_top = max(bbox1[1], bbox2[1])\n",
    "    x_right = min(bbox1[2], bbox2[2])\n",
    "    y_bottom = min(bbox1[3], bbox2[3])\n",
    "\n",
    "    # Check if there is no overlap\n",
    "    if x_right < x_left or y_bottom < y_top:\n",
    "        return 0.0\n",
    "\n",
    "    # Calculate the area of the intersection rectangle\n",
    "    intersection_area = (x_right - x_left) * (y_bottom - y_top)\n",
    "\n",
    "    # Calculate the area of both bounding boxes\n",
    "    bbox1_area = (bbox1[2] - bbox1[0]) * (bbox1[3] - bbox1[1])\n",
    "    bbox2_area = (bbox2[2] - bbox2[0]) * (bbox2[3] - bbox2[1])\n",
    "\n",
    "    # Calculate the IoU\n",
    "    iou = intersection_area / float(bbox1_area + bbox2_area - intersection_area)\n",
    "    return iou"
   ]
  },
  {
   "cell_type": "code",
   "execution_count": 8,
   "metadata": {},
   "outputs": [
    {
     "ename": "ImportError",
     "evalue": "attempted relative import with no known parent package",
     "output_type": "error",
     "traceback": [
      "\u001b[0;31m---------------------------------------------------------------------------\u001b[0m",
      "\u001b[0;31mImportError\u001b[0m                               Traceback (most recent call last)",
      "\u001b[1;32m/home/andrewlee/andrew/tools/eval_iou.ipynb Cell 3\u001b[0m line \u001b[0;36m1\n\u001b[0;32m----> <a href='vscode-notebook-cell://ssh-remote%2B169.237.117.83/home/andrewlee/andrew/tools/eval_iou.ipynb#W2sdnNjb2RlLXJlbW90ZQ%3D%3D?line=0'>1</a>\u001b[0m \u001b[39mfrom\u001b[39;00m \u001b[39m.\u001b[39;00m\u001b[39mutils\u001b[39;00m\u001b[39m.\u001b[39;00m\u001b[39meval\u001b[39;00m \u001b[39mimport\u001b[39;00m calculate_iou\n\u001b[1;32m      <a href='vscode-notebook-cell://ssh-remote%2B169.237.117.83/home/andrewlee/andrew/tools/eval_iou.ipynb#W2sdnNjb2RlLXJlbW90ZQ%3D%3D?line=2'>3</a>\u001b[0m bbox1 \u001b[39m=\u001b[39m [\u001b[39m0.5\u001b[39m, \u001b[39m0.5\u001b[39m, \u001b[39m0.4\u001b[39m, \u001b[39m0.6\u001b[39m]  \u001b[39m# Example bounding box 1\u001b[39;00m\n\u001b[1;32m      <a href='vscode-notebook-cell://ssh-remote%2B169.237.117.83/home/andrewlee/andrew/tools/eval_iou.ipynb#W2sdnNjb2RlLXJlbW90ZQ%3D%3D?line=3'>4</a>\u001b[0m bbox2 \u001b[39m=\u001b[39m [\u001b[39m0.6\u001b[39m, \u001b[39m0.6\u001b[39m, \u001b[39m0.4\u001b[39m, \u001b[39m0.6\u001b[39m]  \u001b[39m# Example bounding box 2\u001b[39;00m\n",
      "\u001b[0;31mImportError\u001b[0m: attempted relative import with no known parent package"
     ]
    }
   ],
   "source": []
  }
 ],
 "metadata": {
  "kernelspec": {
   "display_name": "andrew",
   "language": "python",
   "name": "python3"
  },
  "language_info": {
   "codemirror_mode": {
    "name": "ipython",
    "version": 3
   },
   "file_extension": ".py",
   "mimetype": "text/x-python",
   "name": "python",
   "nbconvert_exporter": "python",
   "pygments_lexer": "ipython3",
   "version": "3.8.18"
  }
 },
 "nbformat": 4,
 "nbformat_minor": 2
}
